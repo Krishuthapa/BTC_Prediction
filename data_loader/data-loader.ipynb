{
 "cells": [
  {
   "cell_type": "code",
   "execution_count": 2,
   "metadata": {},
   "outputs": [],
   "source": [
    "import pandas as pd\n",
    "import os\n",
    "os.chdir('/Users/reetb/Desktop/BTC_Prediction/data')"
   ]
  },
  {
   "cell_type": "markdown",
   "metadata": {},
   "source": [
    "# Parameters\n",
    "## Labeling: \n",
    "### window_l: window size for labeling.\n",
    "### For every row, label = (Avg price today - Avg price window_l days back) / Avg price today \n",
    "\n",
    "## Features:\n",
    "### window_t: window size for calculating today's trend\n",
    "### window_h: window size for calculating historical trend\n",
    "### look_back: frequency of look backs at historical data (90 days for quarterly, 180 days for semi-annually etc.)\n",
    "### look_back_steps: total number of look backs \n",
    "### Feature vector: historical trend + today's trend + today's value\n",
    "#### today's value: ['Open','High','Low','Close','Adj Close','Volume']\n",
    "#### today's trend: ['Open_window_t','High_window_t','Low_window_t','Close_window_t','Adj Close_window_t','Volume_window_t'] where X_window_t = (X today - X window_l days back) / X today\n",
    "#### historical trend: ['Open_l_window_h','High_l_window_h','Low_l_window_h','Close_l_window_h','Adj Close_l_window_h','Volume_l_window_h'] * S,  where X_l_window_h = (X (l * S) days back from today - X window_h days back from the (l * S) days back) / X (l * S) days back from today and S \\in (1,look_back_steps)"
   ]
  },
  {
   "cell_type": "code",
   "execution_count": 17,
   "metadata": {},
   "outputs": [
    {
     "data": {
      "text/plain": [
       "False"
      ]
     },
     "execution_count": 17,
     "metadata": {},
     "output_type": "execute_result"
    }
   ],
   "source": [
    "## Read the dataset, convert date strings to Datetime, and use that column as index. Check for values <= 0. \n",
    "\n",
    "df = pd.read_csv('BTC-USD.csv')\n",
    "df['Date'] = pd.to_datetime(df['Date'])\n",
    "df = df.set_index('Date')\n",
    "# df.loc['2023-12-26']\n",
    "# df.le(0).any().any() # = False [Checked]"
   ]
  }
 ],
 "metadata": {
  "kernelspec": {
   "display_name": "Python 3.11.7 ('deep_learning')",
   "language": "python",
   "name": "python3"
  },
  "language_info": {
   "codemirror_mode": {
    "name": "ipython",
    "version": 3
   },
   "file_extension": ".py",
   "mimetype": "text/x-python",
   "name": "python",
   "nbconvert_exporter": "python",
   "pygments_lexer": "ipython3",
   "version": "3.11.7"
  },
  "orig_nbformat": 4,
  "vscode": {
   "interpreter": {
    "hash": "bf17108f9f945806312d4c930a99fd1c19bb390cd586d92cbea2206d9daa7396"
   }
  }
 },
 "nbformat": 4,
 "nbformat_minor": 2
}
